{
 "cells": [
  {
   "cell_type": "markdown",
   "id": "a2f860a6-d217-4c13-a231-231c414933a5",
   "metadata": {},
   "source": [
    "**1. Write a Python program to create and display a one-dimensional array-like object\n",
    "containing an array of data using Pandas module.**"
   ]
  },
  {
   "cell_type": "code",
   "execution_count": 3,
   "id": "c3c25fd4-c66b-4bf9-9d0c-6132df5bfb12",
   "metadata": {},
   "outputs": [],
   "source": [
    "import pandas as pd"
   ]
  },
  {
   "cell_type": "code",
   "execution_count": 7,
   "id": "782820ac-0b55-406b-99f3-54a88dbf25d8",
   "metadata": {},
   "outputs": [
    {
     "name": "stdout",
     "output_type": "stream",
     "text": [
      "0    1\n",
      "1    2\n",
      "2    3\n",
      "3    4\n",
      "4    5\n",
      "dtype: int64\n"
     ]
    }
   ],
   "source": [
    "data = [1,2,3,4,5]\n",
    "ex = pd.Series(data)\n",
    "print(ex)"
   ]
  },
  {
   "cell_type": "markdown",
   "id": "1e8900c0-3e4e-4445-99ca-e1273015a31e",
   "metadata": {},
   "source": [
    "**2. Write a Python program to convert a Panda module Series to Python list and it's type.**"
   ]
  },
  {
   "cell_type": "code",
   "execution_count": 13,
   "id": "25bf88ee-dfb1-4222-9763-d6a1ea9a23df",
   "metadata": {},
   "outputs": [
    {
     "name": "stdout",
     "output_type": "stream",
     "text": [
      "0    1\n",
      "1    2\n",
      "2    3\n",
      "3    4\n",
      "4    5\n",
      "dtype: int64\n",
      "[1, 2, 3, 4, 5]\n",
      "<class 'list'>\n"
     ]
    }
   ],
   "source": [
    "ds=pd.Series([1,2,3,4,5])\n",
    "print(ds)\n",
    "lst=ds.tolist()\n",
    "print(lst)\n",
    "print(type(lst))"
   ]
  },
  {
   "cell_type": "markdown",
   "id": "42019f3f-5ed4-4315-aa05-0488e2bde035",
   "metadata": {},
   "source": [
    "**3. Write a Python program to add, subtract, multiple and divide two Pandas Series.\n",
    "Sample Series: [2, 4, 6, 8, 10], [1, 3, 5, 7, 9]**"
   ]
  },
  {
   "cell_type": "code",
   "execution_count": 29,
   "id": "59c6d030-cabe-4e9c-ac1f-e5aee86504da",
   "metadata": {},
   "outputs": [
    {
     "name": "stdout",
     "output_type": "stream",
     "text": [
      "Adding two list: [3, 7, 11, 15, 19]\n",
      "Subtracting two list: [1, 1, 1, 1, 1]\n",
      "multiplying two list: [2, 12, 30, 56, 90]\n",
      "Dividing two list: [2.0, 1.3333333333333333, 1.2, 1.1428571428571428, 1.1111111111111112]\n"
     ]
    }
   ],
   "source": [
    "ex1=pd.Series([2,4,6,8,10])\n",
    "ex2=pd.Series([1,3,5,7,9])\n",
    "add=ex1+ex2\n",
    "sub=ex1-ex2\n",
    "mul=ex1*ex2\n",
    "div=ex1/ex2\n",
    "print(f\"Adding two list: {add.tolist()}\")\n",
    "print(f\"Subtracting two list: {sub.tolist()}\")\n",
    "print(f\"multiplying two list: {mul.tolist()}\")\n",
    "print(f\"Dividing two list: {div.tolist()}\")"
   ]
  },
  {
   "cell_type": "markdown",
   "id": "1f1fa27f-3921-4035-adf6-f0eadbd065d5",
   "metadata": {},
   "source": [
    "**4. Write a Python program to get the powers of an array values element-wise.**"
   ]
  },
  {
   "cell_type": "code",
   "execution_count": 45,
   "id": "75a32af5-66e9-42fa-aaec-cdf24bb3f476",
   "metadata": {},
   "outputs": [
    {
     "name": "stdout",
     "output_type": "stream",
     "text": [
      "[0, 1, 8, 27, 64, 125, 216]\n"
     ]
    }
   ],
   "source": [
    "ex1=pd.Series([0, 1, 2, 3, 4, 5, 6])\n",
    "ex2=pd.Series([3, 3, 3, 3, 3, 3, 3])\n",
    "\n",
    "power= ex1.pow(ex2)\n",
    "\n",
    "print(power.tolist())"
   ]
  },
  {
   "cell_type": "markdown",
   "id": "e1d808e9-b3d9-4516-a545-f9379bb23a76",
   "metadata": {},
   "source": [
    "**5. Write a Python program to create and display a DataFrame from a specified dictionary\n",
    "data which has the index labels.**"
   ]
  },
  {
   "cell_type": "code",
   "execution_count": 53,
   "id": "a0a8bf68-bfb0-4b11-a8f3-948392477871",
   "metadata": {},
   "outputs": [
    {
     "name": "stdout",
     "output_type": "stream",
     "text": [
      "DataFrame:\n",
      "        name  score  attempts qualify\n",
      "a  Anastasia   12.5         1     yes\n",
      "b       Dima    9.0         3      no\n",
      "c  Katherine   16.5         2     yes\n",
      "d      James    NaN         3      no\n",
      "e      Emily    9.0         2      no\n",
      "f    Michael   20.0         3     yes\n",
      "g    Matthew   14.5         1     yes\n",
      "h      Laura    NaN         1      no\n",
      "i      Kevin    8.0         2      no\n",
      "j      Jonas   19.0         1     yes\n"
     ]
    }
   ],
   "source": [
    "import numpy as np\n",
    "exam_data = {\n",
    "    'name': ['Anastasia', 'Dima', 'Katherine', 'James', 'Emily', 'Michael', 'Matthew', 'Laura', 'Kevin', 'Jonas'],\n",
    "    'score': [12.5, 9, 16.5, np.nan, 9, 20, 14.5, np.nan, 8, 19],\n",
    "    'attempts': [1, 3, 2, 3, 2, 3, 1, 1, 2, 1],\n",
    "    'qualify': ['yes', 'no', 'yes', 'no', 'no', 'yes', 'yes', 'no', 'no', 'yes']\n",
    "}\n",
    "labels = ['a', 'b', 'c', 'd', 'e', 'f', 'g', 'h', 'i', 'j']\n",
    "\n",
    "df = pd.DataFrame(exam_data, index=labels)\n",
    "\n",
    "print(\"DataFrame:\")\n",
    "print(df)"
   ]
  },
  {
   "cell_type": "markdown",
   "id": "3137276b-4824-4d8b-9d53-73dc741bf0bc",
   "metadata": {},
   "source": [
    "**6. Write a Python program to display a summary of the basic information about a\n",
    "specified Data Frame and its data.**"
   ]
  },
  {
   "cell_type": "code",
   "execution_count": 62,
   "id": "8f16350f-4da2-4fd6-a291-401f86e5c909",
   "metadata": {},
   "outputs": [
    {
     "name": "stdout",
     "output_type": "stream",
     "text": [
      "DataFrame:\n",
      "        name  score  attempts qualify\n",
      "a  Anastasia   12.5         1     yes\n",
      "b       Dima    9.0         3      no\n",
      "c  Katherine   16.5         2     yes\n",
      "d      James    NaN         3      no\n",
      "e      Emily    9.0         2      no\n",
      "f    Michael   20.0         3     yes\n",
      "g    Matthew   14.5         1     yes\n",
      "h      Laura    NaN         1      no\n",
      "i      Kevin    8.0         2      no\n",
      "j      Jonas   19.0         1     yes\n"
     ]
    }
   ],
   "source": [
    "exam_data = {'name': ['Anastasia', 'Dima', 'Katherine', 'James', 'Emily', 'Michael', 'Matthew',\n",
    "'Laura', 'Kevin', 'Jonas'],\n",
    "'score': [12.5, 9, 16.5, np.nan, 9, 20, 14.5, np.nan, 8, 19],\n",
    "'attempts': [1, 3, 2, 3, 2, 3, 1, 1, 2, 1],\n",
    "'qualify': ['yes', 'no', 'yes', 'no', 'no', 'yes', 'yes', 'no', 'no', 'yes']}\n",
    "labels = ['a', 'b', 'c', 'd', 'e', 'f', 'g', 'h', 'i', 'j']\n",
    "df = pd.DataFrame(exam_data, index=labels)\n",
    "\n",
    "print(\"DataFrame:\")\n",
    "print(df)\n"
   ]
  },
  {
   "cell_type": "markdown",
   "id": "ca4e6746-1197-4dad-a716-14482a713396",
   "metadata": {},
   "source": [
    "**7. Write a Python program to get the first 3 rows of a given DataFrame.**\n"
   ]
  },
  {
   "cell_type": "code",
   "execution_count": 60,
   "id": "9a303991-ce6c-4307-885b-8861a0f1a049",
   "metadata": {},
   "outputs": [
    {
     "name": "stdout",
     "output_type": "stream",
     "text": [
      "DataFrame:\n",
      "        name  score  attempts qualify\n",
      "a  Anastasia   12.5         1     yes\n",
      "b       Dima    9.0         3      no\n",
      "c  Katherine   16.5         2     yes\n"
     ]
    }
   ],
   "source": [
    "exam_data = {'name': ['Anastasia', 'Dima', 'Katherine', 'James', 'Emily', 'Michael', 'Matthew',\n",
    "'Laura', 'Kevin', 'Jonas'],\n",
    "'score': [12.5, 9, 16.5, np.nan, 9, 20, 14.5, np.nan, 8, 19],\n",
    "'attempts': [1, 3, 2, 3, 2, 3, 1, 1, 2, 1],\n",
    "'qualify': ['yes', 'no', 'yes', 'no', 'no', 'yes', 'yes', 'no', 'no', 'yes']}\n",
    "labels = ['a', 'b', 'c', 'd', 'e', 'f', 'g', 'h', 'i', 'j']\n",
    "df = pd.DataFrame(exam_data, index=labels)\n",
    "df1 = df.head(3)\n",
    "print(\"DataFrame:\")\n",
    "print(df1)"
   ]
  },
  {
   "cell_type": "markdown",
   "id": "697c39a6-2878-4828-847a-391747477c9d",
   "metadata": {},
   "source": [
    "**8. Write a Python program to select the 'name' and 'score' columns from the following\n",
    "DataFrame.**"
   ]
  },
  {
   "cell_type": "code",
   "execution_count": 73,
   "id": "a4c0570b-0c0e-4df4-aed9-79af24566f9b",
   "metadata": {},
   "outputs": [
    {
     "name": "stdout",
     "output_type": "stream",
     "text": [
      "DataFrame:\n",
      "        name  score\n",
      "a  Anastasia   12.5\n",
      "b       Dima    9.0\n",
      "c  Katherine   16.5\n",
      "d      James    NaN\n",
      "e      Emily    9.0\n",
      "f    Michael   20.0\n",
      "g    Matthew   14.5\n",
      "h      Laura    NaN\n",
      "i      Kevin    8.0\n",
      "j      Jonas   19.0\n"
     ]
    }
   ],
   "source": [
    "exam_data = {'name': ['Anastasia', 'Dima', 'Katherine', 'James', 'Emily', 'Michael', 'Matthew',\n",
    "'Laura', 'Kevin', 'Jonas'],\n",
    "'score': [12.5, 9, 16.5, np.nan, 9, 20, 14.5, np.nan, 8, 19],\n",
    "'attempts': [1, 3, 2, 3, 2, 3, 1, 1, 2, 1],\n",
    "'qualify': ['yes', 'no', 'yes', 'no', 'no', 'yes', 'yes', 'no', 'no', 'yes']}\n",
    "labels = ['a', 'b', 'c', 'd', 'e', 'f', 'g', 'h', 'i', 'j']\n",
    "df = pd.DataFrame(exam_data, index=labels)\n",
    "# df1 = df.head(3)\n",
    "print(\"DataFrame:\")\n",
    "\n",
    "selected_columns = df[['name', 'score']]\n",
    "print(selected_columns)"
   ]
  },
  {
   "cell_type": "markdown",
   "id": "7c219964-ee4e-42fe-89ac-d3113d5215a7",
   "metadata": {},
   "source": [
    "**9. Write a Python program to select the specified columns and rows from a given data\n",
    "frame.Select 'name' and 'score' columns in rows 1, 3, 5, 6 from the following data frame.**"
   ]
  },
  {
   "cell_type": "code",
   "execution_count": 82,
   "id": "94a3a6ac-1f91-4a5b-a65f-c9f842d2564c",
   "metadata": {},
   "outputs": [
    {
     "name": "stdout",
     "output_type": "stream",
     "text": [
      "DataFrame:\n",
      "      name  score\n",
      "b     Dima    9.0\n",
      "d    James    NaN\n",
      "f  Michael   20.0\n",
      "g  Matthew   14.5\n"
     ]
    }
   ],
   "source": [
    "exam_data = {'name': ['Anastasia', 'Dima', 'Katherine', 'James', 'Emily', 'Michael', 'Matthew',\n",
    "'Laura', 'Kevin', 'Jonas'],\n",
    "'score': [12.5, 9, 16.5, np.nan, 9, 20, 14.5, np.nan, 8, 19],\n",
    "'attempts': [1, 3, 2, 3, 2, 3, 1, 1, 2, 1],\n",
    "'qualify': ['yes', 'no', 'yes', 'no', 'no', 'yes', 'yes', 'no', 'no', 'yes']}\n",
    "labels = ['a', 'b', 'c', 'd', 'e', 'f', 'g', 'h', 'i', 'j']\n",
    "df = pd.DataFrame(exam_data, index=labels)\n",
    "print(\"DataFrame:\")\n",
    "selected_data = df.iloc[[1, 3, 5, 6]][['name', 'score']]\n",
    "print(selected_data)\n"
   ]
  },
  {
   "cell_type": "markdown",
   "id": "f00af19b-0644-4282-a989-f45ab2cfb4cf",
   "metadata": {},
   "source": [
    "**10. Write a Python program to select the rows where the number of attempts in the\n",
    "examination is greater than 2.**"
   ]
  },
  {
   "cell_type": "code",
   "execution_count": 86,
   "id": "05db4393-836e-4b7e-bc72-f3224cf9ed64",
   "metadata": {},
   "outputs": [
    {
     "name": "stdout",
     "output_type": "stream",
     "text": [
      "DataFrame:\n",
      "      name  score  attempts qualify\n",
      "b     Dima    9.0         3      no\n",
      "d    James    NaN         3      no\n",
      "f  Michael   20.0         3     yes\n"
     ]
    }
   ],
   "source": [
    "exam_data = {'name': ['Anastasia', 'Dima', 'Katherine', 'James', 'Emily', 'Michael', 'Matthew',\n",
    "'Laura', 'Kevin', 'Jonas'],\n",
    "'score': [12.5, 9, 16.5, np.nan, 9, 20, 14.5, np.nan, 8, 19],\n",
    "'attempts': [1, 3, 2, 3, 2, 3, 1, 1, 2, 1],\n",
    "'qualify': ['yes', 'no', 'yes', 'no', 'no', 'yes', 'yes', 'no', 'no', 'yes']}\n",
    "labels = ['a', 'b', 'c', 'd', 'e', 'f', 'g', 'h', 'i', 'j']\n",
    "df = pd.DataFrame(exam_data, index=labels)\n",
    "filtered_df = df[df['attempts'] > 2]\n",
    "\n",
    "print(\"DataFrame:\")\n",
    "print(filtered_df)\n"
   ]
  },
  {
   "cell_type": "markdown",
   "id": "0425b3de-8225-4d7d-a312-3ce1e8a944fb",
   "metadata": {},
   "source": [
    "**11. Write a Python program to count the number of rows and columns of a DataFrame.**"
   ]
  },
  {
   "cell_type": "code",
   "execution_count": 93,
   "id": "ebf4d965-8aab-43d9-ac9e-cc1cd79fd1b6",
   "metadata": {},
   "outputs": [
    {
     "name": "stdout",
     "output_type": "stream",
     "text": [
      "Number of rows: 10\n",
      "Number of columns: 4\n"
     ]
    }
   ],
   "source": [
    "exam_data = {'name': ['Anastasia', 'Dima', 'Katherine', 'James', 'Emily', 'Michael', 'Matthew',\n",
    "'Laura', 'Kevin', 'Jonas'],\n",
    "'score': [12.5, 9, 16.5, np.nan, 9, 20, 14.5, np.nan, 8, 19],\n",
    "'attempts': [1, 3, 2, 3, 2, 3, 1, 1, 2, 1],\n",
    "'qualify': ['yes', 'no', 'yes', 'no', 'no', 'yes', 'yes', 'no', 'no', 'yes']}\n",
    "labels = ['a', 'b', 'c', 'd', 'e', 'f', 'g', 'h', 'i', 'j']\n",
    "df = pd.DataFrame(exam_data, index=labels)\n",
    "\n",
    "num_row,num_col=df.shape\n",
    "print(f\"Number of rows: {num_row}\")\n",
    "print(f\"Number of columns: {num_col}\")"
   ]
  },
  {
   "cell_type": "markdown",
   "id": "39b83983-1ce6-42e1-9001-f0454073ab1b",
   "metadata": {},
   "source": [
    "**12. Write a Python program to select the rows where the score is missing, i.e. is NaN.**"
   ]
  },
  {
   "cell_type": "code",
   "execution_count": 102,
   "id": "8899223d-37c1-44e2-b42a-6d8fbd1129b3",
   "metadata": {},
   "outputs": [
    {
     "name": "stdout",
     "output_type": "stream",
     "text": [
      "    name  score  attempts qualify\n",
      "d  James    NaN         3      no\n",
      "h  Laura    NaN         1      no\n"
     ]
    }
   ],
   "source": [
    "exam_data = {'name': ['Anastasia', 'Dima', 'Katherine', 'James', 'Emily', 'Michael', 'Matthew',\n",
    "'Laura', 'Kevin', 'Jonas'],\n",
    "'score': [12.5, 9, 16.5, np.nan, 9, 20, 14.5, np.nan, 8, 19],\n",
    "'attempts': [1, 3, 2, 3, 2, 3, 1, 1, 2, 1],\n",
    "'qualify': ['yes', 'no', 'yes', 'no', 'no', 'yes', 'yes', 'no', 'no', 'yes']}\n",
    "labels = ['a', 'b', 'c', 'd', 'e', 'f', 'g', 'h', 'i', 'j']\n",
    "df = pd.DataFrame(exam_data, index=labels)\n",
    "\n",
    "filtered_df = df[df['score'].isna()]\n",
    "print(filtered_df)"
   ]
  },
  {
   "cell_type": "markdown",
   "id": "e28ab105-6da1-4b07-84fa-0fb640242dab",
   "metadata": {},
   "source": [
    "**13. Write a Python program to select the rows where number of attempts in the\n",
    "examination is less than 2 and score greater than 15.**"
   ]
  },
  {
   "cell_type": "code",
   "execution_count": 109,
   "id": "7ef15942-809d-4ac2-81b3-72c60a6d8785",
   "metadata": {},
   "outputs": [
    {
     "name": "stdout",
     "output_type": "stream",
     "text": [
      "    name  score  attempts qualify\n",
      "j  Jonas   19.0         1     yes\n"
     ]
    }
   ],
   "source": [
    "exam_data = {'name': ['Anastasia', 'Dima', 'Katherine', 'James', 'Emily', 'Michael', 'Matthew',\n",
    "'Laura', 'Kevin', 'Jonas'],\n",
    "'score': [12.5, 9, 16.5, np.nan, 9, 20, 14.5, np.nan, 8, 19],\n",
    "'attempts': [1, 3, 2, 3, 2, 3, 1, 1, 2, 1],\n",
    "'qualify': ['yes', 'no', 'yes', 'no', 'no', 'yes', 'yes', 'no', 'no', 'yes']}\n",
    "labels = ['a', 'b', 'c', 'd', 'e', 'f', 'g', 'h', 'i', 'j']\n",
    "df = pd.DataFrame(exam_data, index=labels)\n",
    "\n",
    "filtered_df = df[(df['attempts']<2) & (df['score'] > 15)]\n",
    "print(filtered_df)"
   ]
  },
  {
   "cell_type": "markdown",
   "id": "e1a4b0a2-97bd-434c-af81-d09228041d3e",
   "metadata": {},
   "source": [
    "**14. Write a Python program to change the score in row 'd' to 11.5.**"
   ]
  },
  {
   "cell_type": "code",
   "execution_count": 116,
   "id": "0b3cc5c5-9a0f-4585-833f-080709fe9a18",
   "metadata": {},
   "outputs": [
    {
     "name": "stdout",
     "output_type": "stream",
     "text": [
      "        name  score  attempts qualify\n",
      "a  Anastasia   12.5         1     yes\n",
      "b       Dima    9.0         3      no\n",
      "c  Katherine   16.5         2     yes\n",
      "d      James   11.5         3      no\n",
      "e      Emily    9.0         2      no\n",
      "f    Michael   20.0         3     yes\n",
      "g    Matthew   14.5         1     yes\n",
      "h      Laura    NaN         1      no\n",
      "i      Kevin    8.0         2      no\n",
      "j      Jonas   19.0         1     yes\n"
     ]
    }
   ],
   "source": [
    "exam_data = {'name': ['Anastasia', 'Dima', 'Katherine', 'James', 'Emily', 'Michael', 'Matthew',\n",
    "'Laura', 'Kevin', 'Jonas'],\n",
    "'score': [12.5, 9, 16.5, np.nan, 9, 20, 14.5, np.nan, 8, 19],\n",
    "'attempts': [1, 3, 2, 3, 2, 3, 1, 1, 2, 1],\n",
    "'qualify': ['yes', 'no', 'yes', 'no', 'no', 'yes', 'yes', 'no', 'no', 'yes']}\n",
    "labels = ['a', 'b', 'c', 'd', 'e', 'f', 'g', 'h', 'i', 'j']\n",
    "df = pd.DataFrame(exam_data, index=labels)\n",
    "df.loc['d', 'score'] = 11.5\n",
    "print(df)"
   ]
  },
  {
   "cell_type": "markdown",
   "id": "7b5b4213-f930-442f-8635-634d0d87945c",
   "metadata": {},
   "source": [
    "**15. Write a Python program to calculate the sum of the examination attempts by the\n",
    "students.**"
   ]
  },
  {
   "cell_type": "code",
   "execution_count": 121,
   "id": "a71c1285-f4c1-49e4-bcda-f87e635157ff",
   "metadata": {},
   "outputs": [
    {
     "name": "stdout",
     "output_type": "stream",
     "text": [
      "The sum of all students attempt: 19\n"
     ]
    }
   ],
   "source": [
    "exam_data = {'name': ['Anastasia', 'Dima', 'Katherine', 'James', 'Emily', 'Michael', 'Matthew',\n",
    "'Laura', 'Kevin', 'Jonas'],\n",
    "'score': [12.5, 9, 16.5, np.nan, 9, 20, 14.5, np.nan, 8, 19],\n",
    "'attempts': [1, 3, 2, 3, 2, 3, 1, 1, 2, 1],\n",
    "'qualify': ['yes', 'no', 'yes', 'no', 'no', 'yes', 'yes', 'no', 'no', 'yes']}\n",
    "labels = ['a', 'b', 'c', 'd', 'e', 'f', 'g', 'h', 'i', 'j']\n",
    "df = pd.DataFrame(exam_data, index=labels)\n",
    "sum=df['attempts'].sum()\n",
    "print(f\"The sum of all students attempt: {sum}\")"
   ]
  },
  {
   "cell_type": "markdown",
   "id": "0ea5512a-a338-4a3c-8ece-bdcea40706da",
   "metadata": {},
   "source": [
    "**16. Write a Python program to calculate the mean score for each different student in\n",
    "DataFrame.**"
   ]
  },
  {
   "cell_type": "code",
   "execution_count": 124,
   "id": "a660717f-aeb2-4e6b-a78c-7683b277a775",
   "metadata": {},
   "outputs": [
    {
     "name": "stdout",
     "output_type": "stream",
     "text": [
      "The mean of all students score: 13.5625\n"
     ]
    }
   ],
   "source": [
    "exam_data = {'name': ['Anastasia', 'Dima', 'Katherine', 'James', 'Emily', 'Michael', 'Matthew',\n",
    "'Laura', 'Kevin', 'Jonas'],\n",
    "'score': [12.5, 9, 16.5, np.nan, 9, 20, 14.5, np.nan, 8, 19],\n",
    "'attempts': [1, 3, 2, 3, 2, 3, 1, 1, 2, 1],\n",
    "'qualify': ['yes', 'no', 'yes', 'no', 'no', 'yes', 'yes', 'no', 'no', 'yes']}\n",
    "labels = ['a', 'b', 'c', 'd', 'e', 'f', 'g', 'h', 'i', 'j']\n",
    "df = pd.DataFrame(exam_data, index=labels)\n",
    "mean=df['score'].mean()\n",
    "print(f\"The mean of all students score: {mean}\")"
   ]
  },
  {
   "cell_type": "markdown",
   "id": "977b3afe-7a4c-4292-b6de-0dcf91c5d52e",
   "metadata": {},
   "source": [
    "**17. Write a Python program to append a new row 'k' to data frame with given values for\n",
    "each column. Now delete the new row and return the original DataFrame.**"
   ]
  },
  {
   "cell_type": "code",
   "execution_count": 129,
   "id": "b93bcc6f-5f06-4791-a727-9ade64af5224",
   "metadata": {},
   "outputs": [
    {
     "name": "stdout",
     "output_type": "stream",
     "text": [
      "After adding extra row:\n",
      "        name score attempts qualify\n",
      "a  Anastasia  12.5        1     yes\n",
      "b       Dima   9.0        3      no\n",
      "c  Katherine  16.5        2     yes\n",
      "d      James   NaN        3      no\n",
      "e      Emily   9.0        2      no\n",
      "f    Michael  20.0        3     yes\n",
      "g    Matthew  14.5        1     yes\n",
      "h      Laura   NaN        1      no\n",
      "i      Kevin   8.0        2      no\n",
      "j      Jonas  19.0        1     yes\n",
      "k     Farhan    20        2     yes\n",
      "\n",
      "After deleting extra row:\n",
      "        name score attempts qualify\n",
      "a  Anastasia  12.5        1     yes\n",
      "b       Dima   9.0        3      no\n",
      "c  Katherine  16.5        2     yes\n",
      "d      James   NaN        3      no\n",
      "e      Emily   9.0        2      no\n",
      "f    Michael  20.0        3     yes\n",
      "g    Matthew  14.5        1     yes\n",
      "h      Laura   NaN        1      no\n",
      "i      Kevin   8.0        2      no\n",
      "j      Jonas  19.0        1     yes\n"
     ]
    }
   ],
   "source": [
    "exam_data = {'name': ['Anastasia', 'Dima', 'Katherine', 'James', 'Emily', 'Michael', 'Matthew',\n",
    "'Laura', 'Kevin', 'Jonas'],\n",
    "'score': [12.5, 9, 16.5, np.nan, 9, 20, 14.5, np.nan, 8, 19],\n",
    "'attempts': [1, 3, 2, 3, 2, 3, 1, 1, 2, 1],\n",
    "'qualify': ['yes', 'no', 'yes', 'no', 'no', 'yes', 'yes', 'no', 'no', 'yes']}\n",
    "labels = ['a', 'b', 'c', 'd', 'e', 'f', 'g', 'h', 'i', 'j']\n",
    "df = pd.DataFrame(exam_data, index=labels)\n",
    "df.loc['k']=['Farhan','20','2','yes']\n",
    "print(\"After adding extra row:\")\n",
    "print(df)\n",
    "df=df.drop('k')\n",
    "print(\"\\nAfter deleting extra row:\")\n",
    "print(df)\n"
   ]
  },
  {
   "cell_type": "markdown",
   "id": "920017ea-a8e4-4687-a437-c4931467d908",
   "metadata": {},
   "source": [
    "**18. Write a Python program to sort the DataFrame first by 'name' in descending order,\n",
    "then by 'score' in ascending order.**"
   ]
  },
  {
   "cell_type": "code",
   "execution_count": 138,
   "id": "3e813c10-1f63-41a2-b944-74d378393a5d",
   "metadata": {},
   "outputs": [
    {
     "name": "stdout",
     "output_type": "stream",
     "text": [
      "        name  score  attempts qualify\n",
      "a  Anastasia   12.5         1     yes\n",
      "b       Dima    9.0         3      no\n",
      "e      Emily    9.0         2      no\n",
      "d      James    NaN         3      no\n",
      "j      Jonas   19.0         1     yes\n",
      "c  Katherine   16.5         2     yes\n",
      "i      Kevin    8.0         2      no\n",
      "h      Laura    NaN         1      no\n",
      "g    Matthew   14.5         1     yes\n",
      "f    Michael   20.0         3     yes\n"
     ]
    }
   ],
   "source": [
    "exam_data = {'name': ['Anastasia', 'Dima', 'Katherine', 'James', 'Emily', 'Michael', 'Matthew',\n",
    "'Laura', 'Kevin', 'Jonas'],\n",
    "'score': [12.5, 9, 16.5, np.nan, 9, 20, 14.5, np.nan, 8, 19],\n",
    "'attempts': [1, 3, 2, 3, 2, 3, 1, 1, 2, 1],\n",
    "'qualify': ['yes', 'no', 'yes', 'no', 'no', 'yes', 'yes', 'no', 'no', 'yes']}\n",
    "labels = ['a', 'b', 'c', 'd', 'e', 'f', 'g', 'h', 'i', 'j']\n",
    "df = pd.DataFrame(exam_data, index=labels)\n",
    "df_sorted=df.sort_values(by='name')\n",
    "print(df_sorted)\n"
   ]
  },
  {
   "cell_type": "markdown",
   "id": "7a6bb506-3e18-44f8-8902-0fe8a5ffd937",
   "metadata": {},
   "source": [
    "**19. Write a Python program to replace the 'qualify' column contains the values 'yes' and\n",
    "'no' with True and False.**"
   ]
  },
  {
   "cell_type": "code",
   "execution_count": 149,
   "id": "ececad9c-7c06-4753-94c0-ff0127fc0c7b",
   "metadata": {},
   "outputs": [
    {
     "name": "stdout",
     "output_type": "stream",
     "text": [
      "        name  score  attempts  qualify\n",
      "a  Anastasia   12.5         1     True\n",
      "b       Dima    9.0         3    False\n",
      "c  Katherine   16.5         2     True\n",
      "d      James    NaN         3    False\n",
      "e      Emily    9.0         2    False\n",
      "f    Michael   20.0         3     True\n",
      "g    Matthew   14.5         1     True\n",
      "h      Laura    NaN         1    False\n",
      "i      Kevin    8.0         2    False\n",
      "j      Jonas   19.0         1     True\n"
     ]
    },
    {
     "name": "stderr",
     "output_type": "stream",
     "text": [
      "C:\\Users\\farhan\\AppData\\Local\\Temp\\ipykernel_13956\\865395206.py:8: FutureWarning: Downcasting behavior in `replace` is deprecated and will be removed in a future version. To retain the old behavior, explicitly call `result.infer_objects(copy=False)`. To opt-in to the future behavior, set `pd.set_option('future.no_silent_downcasting', True)`\n",
      "  df['qualify'] = df['qualify'].replace({'yes': True, 'no': False})\n"
     ]
    }
   ],
   "source": [
    " exam_data = {'name': ['Anastasia', 'Dima', 'Katherine', 'James', 'Emily', 'Michael', 'Matthew',\n",
    "'Laura', 'Kevin', 'Jonas'],\n",
    "'score': [12.5, 9, 16.5, np.nan, 9, 20, 14.5, np.nan, 8, 19],\n",
    "'attempts': [1, 3, 2, 3, 2, 3, 1, 1, 2, 1],\n",
    "'qualify': ['yes', 'no', 'yes', 'no', 'no', 'yes', 'yes', 'no', 'no', 'yes']}\n",
    "labels = ['a', 'b', 'c', 'd', 'e', 'f', 'g', 'h', 'i', 'j']\n",
    "df = pd.DataFrame(exam_data, index=labels)\n",
    "df['qualify'] = df['qualify'].replace({'yes': True, 'no': False})\n",
    "print(df)"
   ]
  },
  {
   "cell_type": "markdown",
   "id": "35036a53-e096-4e5a-a03c-4623cacfd5ca",
   "metadata": {},
   "source": [
    "**20. Write a Python program to delete the 'attempts' column from the DataFrame.**"
   ]
  },
  {
   "cell_type": "code",
   "execution_count": 158,
   "id": "c12e7628-e760-432b-8466-6da5bfc070cc",
   "metadata": {},
   "outputs": [
    {
     "name": "stdout",
     "output_type": "stream",
     "text": [
      "        name  score qualify\n",
      "a  Anastasia   12.5     yes\n",
      "b       Dima    9.0      no\n",
      "c  Katherine   16.5     yes\n",
      "d      James    NaN      no\n",
      "e      Emily    9.0      no\n",
      "f    Michael   20.0     yes\n",
      "g    Matthew   14.5     yes\n",
      "h      Laura    NaN      no\n",
      "i      Kevin    8.0      no\n",
      "j      Jonas   19.0     yes\n"
     ]
    }
   ],
   "source": [
    " exam_data = {'name': ['Anastasia', 'Dima', 'Katherine', 'James', 'Emily', 'Michael', 'Matthew',\n",
    "'Laura', 'Kevin', 'Jonas'],\n",
    "'score': [12.5, 9, 16.5, np.nan, 9, 20, 14.5, np.nan, 8, 19],\n",
    "'attempts': [1, 3, 2, 3, 2, 3, 1, 1, 2, 1],\n",
    "'qualify': ['yes', 'no', 'yes', 'no', 'no', 'yes', 'yes', 'no', 'no', 'yes']}\n",
    "labels = ['a', 'b', 'c', 'd', 'e', 'f', 'g', 'h', 'i', 'j']\n",
    "df = pd.DataFrame(exam_data, index=labels)\n",
    "del df['attempts']\n",
    "print(df)"
   ]
  },
  {
   "cell_type": "markdown",
   "id": "30bc3a73-31d3-48bc-8a25-c3664b4c2422",
   "metadata": {},
   "source": [
    "**21. Write a Python program to insert a new column in existing DataFrame.**"
   ]
  },
  {
   "cell_type": "code",
   "execution_count": 161,
   "id": "b8eca3a7-d932-4c54-abae-d2767018ad77",
   "metadata": {},
   "outputs": [
    {
     "name": "stdout",
     "output_type": "stream",
     "text": [
      "        name  score  attempts qualify  Age\n",
      "a  Anastasia   12.5         1     yes   20\n",
      "b       Dima    9.0         3      no   21\n",
      "c  Katherine   16.5         2     yes   19\n",
      "d      James    NaN         3      no   22\n",
      "e      Emily    9.0         2      no   20\n",
      "f    Michael   20.0         3     yes   23\n",
      "g    Matthew   14.5         1     yes   18\n",
      "h      Laura    NaN         1      no   24\n",
      "i      Kevin    8.0         2      no   21\n",
      "j      Jonas   19.0         1     yes   22\n"
     ]
    }
   ],
   "source": [
    " exam_data = {'name': ['Anastasia', 'Dima', 'Katherine', 'James', 'Emily', 'Michael', 'Matthew',\n",
    "'Laura', 'Kevin', 'Jonas'],\n",
    "'score': [12.5, 9, 16.5, np.nan, 9, 20, 14.5, np.nan, 8, 19],\n",
    "'attempts': [1, 3, 2, 3, 2, 3, 1, 1, 2, 1],\n",
    "'qualify': ['yes', 'no', 'yes', 'no', 'no', 'yes', 'yes', 'no', 'no', 'yes']}\n",
    "labels = ['a', 'b', 'c', 'd', 'e', 'f', 'g', 'h', 'i', 'j']\n",
    "df = pd.DataFrame(exam_data, index=labels)\n",
    "df['Age'] =[20, 21, 19, 22, 20, 23, 18, 24, 21, 22]\n",
    "print(df)"
   ]
  },
  {
   "cell_type": "markdown",
   "id": "5fe8a4ea-91d2-49e2-8f39-d4cd92dbdadb",
   "metadata": {},
   "source": [
    "**22. Write a Python program to iterate over rows in a DataFrame.**"
   ]
  },
  {
   "cell_type": "code",
   "execution_count": 166,
   "id": "49685dc1-890c-41b4-826e-ee0f9506e385",
   "metadata": {},
   "outputs": [
    {
     "name": "stdout",
     "output_type": "stream",
     "text": [
      "Using iterrows():\n",
      "Index: a, Name: Anastasia, Score: 12.5\n",
      "Index: b, Name: Dima, Score: 9.0\n",
      "Index: c, Name: Katherine, Score: 16.5\n",
      "Index: d, Name: James, Score: nan\n",
      "Index: e, Name: Emily, Score: 9.0\n",
      "Index: f, Name: Michael, Score: 20.0\n",
      "Index: g, Name: Matthew, Score: 14.5\n",
      "Index: h, Name: Laura, Score: nan\n",
      "Index: i, Name: Kevin, Score: 8.0\n",
      "Index: j, Name: Jonas, Score: 19.0\n"
     ]
    }
   ],
   "source": [
    " exam_data = {'name': ['Anastasia', 'Dima', 'Katherine', 'James', 'Emily', 'Michael', 'Matthew',\n",
    "'Laura', 'Kevin', 'Jonas'],\n",
    "'score': [12.5, 9, 16.5, np.nan, 9, 20, 14.5, np.nan, 8, 19],\n",
    "'attempts': [1, 3, 2, 3, 2, 3, 1, 1, 2, 1],\n",
    "'qualify': ['yes', 'no', 'yes', 'no', 'no', 'yes', 'yes', 'no', 'no', 'yes']}\n",
    "labels = ['a', 'b', 'c', 'd', 'e', 'f', 'g', 'h', 'i', 'j']\n",
    "df = pd.DataFrame(exam_data, index=labels)\n",
    "print(\"Using iterrows():\")\n",
    "for index, row in df.iterrows():\n",
    "    print(f\"Index: {index}, Name: {row['name']}, Score: {row['score']}\")\n"
   ]
  },
  {
   "cell_type": "markdown",
   "id": "16d7cba9-e003-4606-a80b-fd104acd9057",
   "metadata": {},
   "source": [
    "**23. Write a Python program to get list from DataFrame column headers.**"
   ]
  },
  {
   "cell_type": "code",
   "execution_count": 169,
   "id": "64ce8720-e3ff-4569-835a-50f43e97865a",
   "metadata": {},
   "outputs": [
    {
     "name": "stdout",
     "output_type": "stream",
     "text": [
      "['name', 'score', 'attempts', 'qualify']\n"
     ]
    }
   ],
   "source": [
    " exam_data = {'name': ['Anastasia', 'Dima', 'Katherine', 'James', 'Emily', 'Michael', 'Matthew',\n",
    "'Laura', 'Kevin', 'Jonas'],\n",
    "'score': [12.5, 9, 16.5, np.nan, 9, 20, 14.5, np.nan, 8, 19],\n",
    "'attempts': [1, 3, 2, 3, 2, 3, 1, 1, 2, 1],\n",
    "'qualify': ['yes', 'no', 'yes', 'no', 'no', 'yes', 'yes', 'no', 'no', 'yes']}\n",
    "labels = ['a', 'b', 'c', 'd', 'e', 'f', 'g', 'h', 'i', 'j']\n",
    "df = pd.DataFrame(exam_data, index=labels)\n",
    "column_headers = df.columns.tolist()\n",
    "print(column_headers)"
   ]
  }
 ],
 "metadata": {
  "kernelspec": {
   "display_name": "Python [conda env:base] *",
   "language": "python",
   "name": "conda-base-py"
  },
  "language_info": {
   "codemirror_mode": {
    "name": "ipython",
    "version": 3
   },
   "file_extension": ".py",
   "mimetype": "text/x-python",
   "name": "python",
   "nbconvert_exporter": "python",
   "pygments_lexer": "ipython3",
   "version": "3.12.7"
  }
 },
 "nbformat": 4,
 "nbformat_minor": 5
}
