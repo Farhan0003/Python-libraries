{
 "cells": [
  {
   "cell_type": "markdown",
   "id": "47eb18ae-6dc0-4fd8-b50d-c39afb0a9c7d",
   "metadata": {},
   "source": [
    "**1. Write a Python program to convert a list of numeric value into a one-dimensional\n",
    "NumPy array.**\n"
   ]
  },
  {
   "cell_type": "code",
   "execution_count": 124,
   "id": "a203ad75-aa42-428d-bdcc-5b3517350c14",
   "metadata": {},
   "outputs": [
    {
     "name": "stdout",
     "output_type": "stream",
     "text": [
      "[ 12  13 100  36]\n"
     ]
    }
   ],
   "source": [
    "import numpy as np\n",
    "\n",
    "lst=[12,13,100,36]\n",
    "arr=np.array(lst)\n",
    "print(arr)"
   ]
  },
  {
   "cell_type": "markdown",
   "id": "c440871e-a35f-420e-af07-b8b792dafd77",
   "metadata": {},
   "source": [
    "**2. Create a 3x3 matrix with values ranging from 2 to 10.**"
   ]
  },
  {
   "cell_type": "code",
   "execution_count": 126,
   "id": "aa52c28b-664c-4896-8286-ed4734daacf0",
   "metadata": {},
   "outputs": [
    {
     "name": "stdout",
     "output_type": "stream",
     "text": [
      "[[ 2  3  4]\n",
      " [ 5  6  7]\n",
      " [ 8  9 10]]\n"
     ]
    }
   ],
   "source": [
    "x = np.arange(2, 11).reshape(3, 3)\n",
    "print(x)"
   ]
  },
  {
   "cell_type": "markdown",
   "id": "ce05fcf9-d00b-454a-8268-d656fa652933",
   "metadata": {},
   "source": [
    "**3. Write a Python program to create a null vector of size 10 and update sixth value to 11.**"
   ]
  },
  {
   "cell_type": "code",
   "execution_count": 128,
   "id": "0c0aeea4-3590-4ae9-ae6a-8c580d9bc9a7",
   "metadata": {},
   "outputs": [
    {
     "name": "stdout",
     "output_type": "stream",
     "text": [
      "[0. 0. 0. 0. 0. 0. 0. 0. 0. 0.]\n",
      "Update the 6th index to 11\n",
      "[ 0.  0.  0.  0.  0.  0. 11.  0.  0.  0.]\n"
     ]
    }
   ],
   "source": [
    "x=np.zeros(10)\n",
    "print(x)\n",
    "print(\"Update the 6th index to 11\")\n",
    "x[6]=11\n",
    "print(x)"
   ]
  },
  {
   "cell_type": "markdown",
   "id": "37aefd45-469c-4c9f-b786-dc9f0a3c5233",
   "metadata": {},
   "source": [
    "**4. Write a Python program to reverse an array (first element becomes last).**"
   ]
  },
  {
   "cell_type": "code",
   "execution_count": 130,
   "id": "7680f205-7a89-4aea-833c-ad8645a59ea1",
   "metadata": {},
   "outputs": [
    {
     "name": "stdout",
     "output_type": "stream",
     "text": [
      "[37 36 35 34 33 32 31 30 29 28 27 26 25 24 23 22 21 20 19 18 17 16 15 14\n",
      " 13 12]\n"
     ]
    }
   ],
   "source": [
    "x=np.array([12, 13, 14, 15, 16, 17, 18, 19, 20, 21, 22, 23, 24, 25, 26, 27, 28, 29, 30, 31, 32, 33, 34, 35, 36, 37])\n",
    "res = np.flip(x)\n",
    "print(str(res))"
   ]
  },
  {
   "cell_type": "markdown",
   "id": "8e06c5f4-a2dc-465d-a3d1-2d4389b45185",
   "metadata": {},
   "source": [
    "**5. Write a Python program to create a 2d array with 1 on the border and 0 inside.**"
   ]
  },
  {
   "cell_type": "code",
   "execution_count": 132,
   "id": "358d40d3-da0b-4f6e-9176-6fd0fa2823b4",
   "metadata": {},
   "outputs": [
    {
     "name": "stdout",
     "output_type": "stream",
     "text": [
      "Original array:\n",
      "[[1. 1. 1. 1. 1.]\n",
      " [1. 1. 1. 1. 1.]\n",
      " [1. 1. 1. 1. 1.]\n",
      " [1. 1. 1. 1. 1.]\n",
      " [1. 1. 1. 1. 1.]]\n",
      "1 on the border and 0 inside in the array\n",
      "[[1. 1. 1. 1. 1.]\n",
      " [1. 0. 0. 0. 1.]\n",
      " [1. 0. 0. 0. 1.]\n",
      " [1. 0. 0. 0. 1.]\n",
      " [1. 1. 1. 1. 1.]]\n"
     ]
    }
   ],
   "source": [
    "x = np.ones((5, 5))\n",
    "print(\"Original array:\")\n",
    "print(x)\n",
    "print(\"1 on the border and 0 inside in the array\")\n",
    "x[1:-1, 1:-1] = 0\n",
    "print(x)"
   ]
  },
  {
   "cell_type": "markdown",
   "id": "f8620614-da27-4b4b-8e29-3e3afcc9f8c9",
   "metadata": {},
   "source": [
    "**6. Write a Python program to add a border (filled with 0's) around an existing array.**"
   ]
  },
  {
   "cell_type": "code",
   "execution_count": 134,
   "id": "ee0b47a2-3adf-448e-93fe-778bf06fc807",
   "metadata": {},
   "outputs": [
    {
     "name": "stdout",
     "output_type": "stream",
     "text": [
      "Original array:\n",
      "[[0. 0. 0. 0. 0.]\n",
      " [0. 0. 0. 0. 0.]\n",
      " [0. 0. 0. 0. 0.]\n",
      " [0. 0. 0. 0. 0.]\n",
      " [0. 0. 0. 0. 0.]]\n",
      "0 on the border and 1 inside in the array\n",
      "[[0. 0. 0. 0. 0.]\n",
      " [0. 1. 1. 1. 0.]\n",
      " [0. 1. 1. 1. 0.]\n",
      " [0. 1. 1. 1. 0.]\n",
      " [0. 0. 0. 0. 0.]]\n"
     ]
    }
   ],
   "source": [
    "x = np.zeros((5, 5))\n",
    "print(\"Original array:\")\n",
    "print(x)\n",
    "print(\"0 on the border and 1 inside in the array\")\n",
    "x[1:-1, 1:-1] = 1\n",
    "print(x)"
   ]
  },
  {
   "cell_type": "markdown",
   "id": "ceac97cd-71c5-4d31-b5cc-1ac56a74df42",
   "metadata": {},
   "source": [
    "**7. Write a Python program to create a 8x8 matrix and fill it with a checkerboard pattern..**"
   ]
  },
  {
   "cell_type": "code",
   "execution_count": 136,
   "id": "3ee099ff-6580-4689-90c1-eab3b11f7531",
   "metadata": {},
   "outputs": [
    {
     "name": "stdout",
     "output_type": "stream",
     "text": [
      "Original array:\n",
      "[[0. 0. 0. 0. 0. 0. 0. 0.]\n",
      " [0. 0. 0. 0. 0. 0. 0. 0.]\n",
      " [0. 0. 0. 0. 0. 0. 0. 0.]\n",
      " [0. 0. 0. 0. 0. 0. 0. 0.]\n",
      " [0. 0. 0. 0. 0. 0. 0. 0.]\n",
      " [0. 0. 0. 0. 0. 0. 0. 0.]\n",
      " [0. 0. 0. 0. 0. 0. 0. 0.]\n",
      " [0. 0. 0. 0. 0. 0. 0. 0.]]\n",
      "New array:\n",
      "[[0. 1. 0. 1. 0. 1. 0. 1.]\n",
      " [1. 0. 1. 0. 1. 0. 1. 0.]\n",
      " [0. 1. 0. 1. 0. 1. 0. 1.]\n",
      " [1. 0. 1. 0. 1. 0. 1. 0.]\n",
      " [0. 1. 0. 1. 0. 1. 0. 1.]\n",
      " [1. 0. 1. 0. 1. 0. 1. 0.]\n",
      " [0. 1. 0. 1. 0. 1. 0. 1.]\n",
      " [1. 0. 1. 0. 1. 0. 1. 0.]]\n"
     ]
    }
   ],
   "source": [
    "x = np.zeros((8, 8))\n",
    "print(\"Original array:\")\n",
    "print(x)\n",
    "print(\"New array:\")\n",
    "x[1::2,::2] = 1\n",
    "x[::2, 1::2] = 1 \n",
    "print(x)\n"
   ]
  },
  {
   "cell_type": "markdown",
   "id": "2ad8a3ec-8ad1-4909-9bee-aa2b71ff278d",
   "metadata": {},
   "source": [
    "**8. Write a Python program to convert a list and tuple into arrays.**"
   ]
  },
  {
   "cell_type": "code",
   "execution_count": 138,
   "id": "b857fa87-80c5-404d-860f-5122931707db",
   "metadata": {},
   "outputs": [
    {
     "name": "stdout",
     "output_type": "stream",
     "text": [
      "list into array\n",
      "[3 4 5 6]\n",
      "Tupple into array\n",
      "[[8 4 5]\n",
      " [1 2 3]]\n"
     ]
    }
   ],
   "source": [
    "list1 = [3, 4, 5, 6]\n",
    "array1 = np.asarray(list1)\n",
    "print(\"list into array\")\n",
    "print(array1)\n",
    "tup1 = ([8,4,5],[1,2,3])\n",
    "array2 =np.array(tup1)\n",
    "print(\"Tupple into array\")\n",
    "print(array2)"
   ]
  },
  {
   "cell_type": "markdown",
   "id": "1612b4f4-cd74-4881-9f22-6408b7ee2187",
   "metadata": {},
   "source": [
    "**9. Write a Python program to append values to the end of an array.**"
   ]
  },
  {
   "cell_type": "code",
   "execution_count": 140,
   "id": "78488706-ed21-4b2c-8f4c-ea5ac9144c1c",
   "metadata": {},
   "outputs": [
    {
     "name": "stdout",
     "output_type": "stream",
     "text": [
      "original array\n",
      "[10, 20, 30]\n",
      "new array\n",
      "[10 20 30 40 50 60 70 80 90]\n"
     ]
    }
   ],
   "source": [
    "lst=[10, 20, 30]\n",
    "print(\"original array\")\n",
    "print(lst)\n",
    "lst=np.append(lst,[40])\n",
    "lst=np.append(lst,[50])\n",
    "lst=np.append(lst,[60])\n",
    "lst=np.append(lst,[70])\n",
    "lst=np.append(lst,[80])\n",
    "lst=np.append(lst,[90])\n",
    "print(\"new array\")\n",
    "print(lst)"
   ]
  },
  {
   "cell_type": "markdown",
   "id": "ef30f59f-3833-4d26-8988-daf196234739",
   "metadata": {},
   "source": [
    "**10. Write a Python program to find the real and imaginary parts of an array of complex\n",
    "numbers.**"
   ]
  },
  {
   "cell_type": "code",
   "execution_count": 142,
   "id": "6f3a143d-39ab-4a04-a5c5-ab600724b879",
   "metadata": {},
   "outputs": [
    {
     "name": "stdout",
     "output_type": "stream",
     "text": [
      "Original array: [1.   +0.j    0.707+0.707j]\n",
      "Real part of the array:\n",
      "[1.    0.707]\n",
      "Imaginary part of the array:\n",
      "[0.    0.707]\n"
     ]
    }
   ],
   "source": [
    "import numpy as np\n",
    "complex_array = np.array([1.00000000 + 0.j, 0.70710678 + 0.70710678j])\n",
    "real_part = np.real(complex_array)\n",
    "imaginary_part = np.imag(complex_array)\n",
    "print(\"Original array:\", complex_array)\n",
    "print(\"Real part of the array:\")\n",
    "print(real_part)\n",
    "print(\"Imaginary part of the array:\")\n",
    "print(imaginary_part)\n"
   ]
  },
  {
   "cell_type": "markdown",
   "id": "f50bc72d-d382-446a-a193-0b627830800b",
   "metadata": {},
   "source": [
    "**11. Write a Python program to find the number of elements of an array, length of one\n",
    "array element in bytes and total bytes consumed by the elements.**"
   ]
  },
  {
   "cell_type": "code",
   "execution_count": 144,
   "id": "67ff74f0-54e0-479f-8970-edf920bc08a6",
   "metadata": {},
   "outputs": [
    {
     "name": "stdout",
     "output_type": "stream",
     "text": [
      "Size of the array:  3\n",
      "Length of one array element in bytes:  8\n",
      "Total bytes consumed by the elements of the array:  24\n"
     ]
    }
   ],
   "source": [
    "x = np.array([1, 2, 3], dtype=np.float64)\n",
    "print(\"Size of the array: \", x.size)\n",
    "print(\"Length of one array element in bytes: \", x.itemsize)\n",
    "print(\"Total bytes consumed by the elements of the array: \", x.nbytes)"
   ]
  },
  {
   "cell_type": "markdown",
   "id": "546e9d4d-28ba-41aa-8f10-58e7f1e02866",
   "metadata": {},
   "source": [
    "**12. Write a Python program to find common values between two arrays.**"
   ]
  },
  {
   "cell_type": "code",
   "execution_count": 146,
   "id": "ce058adf-5a80-4e81-a5f6-10b9be3d7ab1",
   "metadata": {},
   "outputs": [
    {
     "name": "stdout",
     "output_type": "stream",
     "text": [
      "[10 40]\n"
     ]
    }
   ],
   "source": [
    "Array1 =[ 0, 10, 20, 40, 60]\n",
    "Array2 =[10, 30, 40]\n",
    "Array3=np.intersect1d(Array1,Array2)\n",
    "print(Array3)"
   ]
  },
  {
   "cell_type": "markdown",
   "id": "117b354c-183a-4afe-bd88-13e7f2997d6f",
   "metadata": {},
   "source": [
    "**13. Write a Python program to find the set difference of two arrays. The set difference will return the sorted, unique values in array1 that are not in array2.**"
   ]
  },
  {
   "cell_type": "code",
   "execution_count": 148,
   "id": "dcc1254c-27c9-4a5b-9a7a-1ba022660e20",
   "metadata": {},
   "outputs": [
    {
     "name": "stdout",
     "output_type": "stream",
     "text": [
      "[ 0 20 60]\n"
     ]
    }
   ],
   "source": [
    "import numpy as np\n",
    "Array1 =[ 0, 10, 20, 40, 60]\n",
    "Array2 =[10, 30, 40]\n",
    "Array3=np.setdiff1d(Array1,Array2)\n",
    "print(Array3)"
   ]
  },
  {
   "cell_type": "markdown",
   "id": "78886bd0-76de-4383-8398-79c87f4e3752",
   "metadata": {},
   "source": [
    "**14. Write a Python program to find the set exclusive-or of two arrays. Set exclusive-or will return the sorted, unique values that are in only one (not both) of the input arrays.**"
   ]
  },
  {
   "cell_type": "code",
   "execution_count": 150,
   "id": "6b772299-cdf8-4659-bfc6-310caaf2802a",
   "metadata": {},
   "outputs": [
    {
     "name": "stdout",
     "output_type": "stream",
     "text": [
      "[ 0 20 30 60]\n"
     ]
    }
   ],
   "source": [
    "Array1 =[ 0, 10, 20, 40, 60]\n",
    "Array2 =[10, 30, 40]\n",
    "Array3=np.setxor1d(Array1,Array2)\n",
    "print(Array3)"
   ]
  },
  {
   "cell_type": "markdown",
   "id": "35c6040f-c13d-417f-9717-a7f3a2628bab",
   "metadata": {},
   "source": [
    "**15(a). Write a Python program compare two arrays using numpy.**"
   ]
  },
  {
   "cell_type": "code",
   "execution_count": 152,
   "id": "b42498c4-3adb-4540-9ae9-ea2c2a8cec6b",
   "metadata": {},
   "outputs": [
    {
     "name": "stdout",
     "output_type": "stream",
     "text": [
      "Array a:  [1 2]\n",
      "Array b:  [4 5]\n",
      "a > b\n",
      "[False False]\n",
      "a >= b\n",
      "[False False]\n",
      "a < b\n",
      "[ True  True]\n",
      "a <= b\n",
      "[ True  True]\n"
     ]
    }
   ],
   "source": [
    "a = np.array([1,2])\n",
    "b = np.array([4,5])\n",
    " \n",
    "print(\"Array a: \", a)\n",
    "print(\"Array b: \", b)\n",
    " \n",
    "print(\"a > b\")\n",
    "print(np.greater(a, b))\n",
    " \n",
    "print(\"a >= b\")\n",
    "print(np.greater_equal(a, b))\n",
    " \n",
    "print(\"a < b\")\n",
    "print(np.less(a, b))\n",
    " \n",
    "print(\"a <= b\")\n",
    "print(np.less_equal(a, b))"
   ]
  },
  {
   "cell_type": "markdown",
   "id": "04b08075-995d-4931-8579-7c167e7f5e19",
   "metadata": {},
   "source": [
    "**15(b). Write a Python program to save a NumPy array to a text file.**"
   ]
  },
  {
   "cell_type": "code",
   "execution_count": 154,
   "id": "c0e9ff97-7997-4398-ad6a-84701ce1a0a4",
   "metadata": {},
   "outputs": [
    {
     "name": "stdout",
     "output_type": "stream",
     "text": [
      "Array:\n",
      " [1 2 3 4 5]\n",
      "\n",
      "Content in file1.txt:\n",
      " [1 2 3 4 5]\n"
     ]
    }
   ],
   "source": [
    "List = [1, 2, 3, 4, 5]\n",
    "Array = np.array(List)\n",
    "print('Array:\\n', Array)\n",
    "file = open(\"file1.txt\", \"w+\")\n",
    "content = str(Array)\n",
    "file.write(content)\n",
    "file.close()\n",
    "file = open(\"file1.txt\", \"r\")\n",
    "content = file.read() \n",
    "print(\"\\nContent in file1.txt:\\n\", content)\n",
    "file.close()"
   ]
  },
  {
   "cell_type": "markdown",
   "id": "e32b9268-4abf-4634-a6af-15db8a3bcf8e",
   "metadata": {},
   "source": [
    "**16. Write a Python program to create a contiguous flattened array.**"
   ]
  },
  {
   "cell_type": "code",
   "execution_count": 156,
   "id": "b82201d3-a78d-4b28-8408-3612c1efaf36",
   "metadata": {},
   "outputs": [
    {
     "name": "stdout",
     "output_type": "stream",
     "text": [
      "Original array:\n",
      "[[10 20 30]\n",
      " [20 40 50]]\n",
      "New flattened array:\n",
      "[10 20 30 20 40 50]\n"
     ]
    }
   ],
   "source": [
    "import numpy as np\n",
    "original_array = np.array([[10, 20, 30], [20, 40, 50]])\n",
    "flattened_array = original_array.ravel()\n",
    "print(\"Original array:\")\n",
    "print(original_array)\n",
    "print(\"New flattened array:\")\n",
    "print(flattened_array)\n"
   ]
  },
  {
   "cell_type": "markdown",
   "id": "c8be3402-06b0-4d58-aa7c-a7a6bda4c5a0",
   "metadata": {},
   "source": [
    "**17. Write a Python program to create a contiguous flattened array.**"
   ]
  },
  {
   "cell_type": "code",
   "execution_count": 158,
   "id": "ca2b7a37-877d-478a-994b-963d411d8fa2",
   "metadata": {},
   "outputs": [
    {
     "name": "stdout",
     "output_type": "stream",
     "text": [
      "[10 20 30 40 50]\n",
      "int32\n",
      "[10. 20. 30. 40. 50.]\n",
      "float64\n"
     ]
    }
   ],
   "source": [
    "arr = np.array([10, 20, 30, 40, 50])\n",
    "print(arr)\n",
    "print(arr.dtype)\n",
    "arr = arr.astype('float64') \n",
    "print(arr) \n",
    "print(arr.dtype)"
   ]
  },
  {
   "cell_type": "markdown",
   "id": "d2c7f370-f0a3-4169-bbc7-db9a68f3a69b",
   "metadata": {},
   "source": [
    "**18. Write a Python program to create a 3-D array with ones on a diagonal and zeros\n",
    "elsewhere.**"
   ]
  },
  {
   "cell_type": "code",
   "execution_count": 160,
   "id": "47528224-6c28-4dd3-8680-677e6ae8272c",
   "metadata": {},
   "outputs": [
    {
     "name": "stdout",
     "output_type": "stream",
     "text": [
      "3D Array with ones on the diagonal:\n",
      "[[[1 0 0]\n",
      "  [0 0 0]\n",
      "  [0 0 0]]\n",
      "\n",
      " [[0 0 0]\n",
      "  [0 1 0]\n",
      "  [0 0 0]]\n",
      "\n",
      " [[0 0 0]\n",
      "  [0 0 0]\n",
      "  [0 0 1]]]\n"
     ]
    }
   ],
   "source": [
    "shape = (3, 3, 3) \n",
    "array_3d = np.zeros(shape, dtype=int)\n",
    "for i in range(min(shape)):\n",
    "    array_3d[i, i, i] = 1\n",
    "print(\"3D Array with ones on the diagonal:\")\n",
    "print(array_3d)\n"
   ]
  },
  {
   "cell_type": "markdown",
   "id": "9d8cf30f-1dbc-4c16-94c3-430b4a73cc03",
   "metadata": {},
   "source": [
    "**19. Write a Python program to create an array which looks like below array.**"
   ]
  },
  {
   "cell_type": "code",
   "execution_count": 162,
   "id": "f040c8d7-9d25-4152-8e05-396a1d7b154e",
   "metadata": {},
   "outputs": [
    {
     "name": "stdout",
     "output_type": "stream",
     "text": [
      "[[0 0 0]\n",
      " [1 0 0]\n",
      " [1 1 0]\n",
      " [1 1 1]]\n"
     ]
    }
   ],
   "source": [
    "array = np.zeros((4, 3), dtype=int)\n",
    "array[1:, :] = np.tril(np.ones((3, 3), dtype=int), k=0)\n",
    "print(array)"
   ]
  },
  {
   "cell_type": "markdown",
   "id": "27e881a5-0595-4ced-bb8b-e181b0240a89",
   "metadata": {},
   "source": [
    "**20. Write a Python program to concatenate two 2-dimensional arrays.**"
   ]
  },
  {
   "cell_type": "code",
   "execution_count": 164,
   "id": "2d3168b0-6871-43f0-9614-229403ddf411",
   "metadata": {},
   "outputs": [
    {
     "data": {
      "text/plain": [
       "array([[[ 1,  2,  3],\n",
       "        [10, 11, 12]],\n",
       "\n",
       "       [[ 4,  5,  6],\n",
       "        [13, 14, 15]],\n",
       "\n",
       "       [[ 7,  8,  9],\n",
       "        [16, 17, 18]]])"
      ]
     },
     "execution_count": 164,
     "metadata": {},
     "output_type": "execute_result"
    }
   ],
   "source": [
    "arr1 = np.arange(1, 10).reshape(3, 3)\n",
    "arr2 = np.arange(10, 19).reshape(3, 3)\n",
    "np.stack((arr1, arr2), axis=1)"
   ]
  },
  {
   "cell_type": "markdown",
   "id": "bd678c5d-26fb-4acb-b30b-292679b39587",
   "metadata": {},
   "source": [
    "**21. Write a Python program to make an array immutable (read-only).**"
   ]
  },
  {
   "cell_type": "code",
   "execution_count": 166,
   "id": "29be1063-2943-4749-b5a8-b9d430d25a9b",
   "metadata": {},
   "outputs": [
    {
     "name": "stdout",
     "output_type": "stream",
     "text": [
      "Before any change \n",
      "[0. 0. 0. 0. 0. 0. 0. 0. 0. 0. 0.]\n",
      "Before after first change \n",
      "[0. 2. 0. 0. 0. 0. 0. 0. 0. 0. 0.]\n",
      "After making array immutable on attempting  second change \n"
     ]
    },
    {
     "ename": "ValueError",
     "evalue": "assignment destination is read-only",
     "output_type": "error",
     "traceback": [
      "\u001b[1;31m---------------------------------------------------------------------------\u001b[0m",
      "\u001b[1;31mValueError\u001b[0m                                Traceback (most recent call last)",
      "Cell \u001b[1;32mIn[166], line 11\u001b[0m\n\u001b[0;32m      9\u001b[0m a\u001b[38;5;241m.\u001b[39msetflags(write\u001b[38;5;241m=\u001b[39m\u001b[38;5;28;01mFalse\u001b[39;00m)\n\u001b[0;32m     10\u001b[0m \u001b[38;5;28mprint\u001b[39m(\u001b[38;5;124m\"\u001b[39m\u001b[38;5;124mAfter making array immutable on attempting  second change \u001b[39m\u001b[38;5;124m\"\u001b[39m)\n\u001b[1;32m---> 11\u001b[0m a[\u001b[38;5;241m1\u001b[39m] \u001b[38;5;241m=\u001b[39m \u001b[38;5;241m7\u001b[39m\n",
      "\u001b[1;31mValueError\u001b[0m: assignment destination is read-only"
     ]
    }
   ],
   "source": [
    "a = np.zeros(11)\n",
    "print(\"Before any change \")\n",
    "print(a)\n",
    " \n",
    "a[1] = 2\n",
    "print(\"Before after first change \")\n",
    "print(a)\n",
    " \n",
    "a.setflags(write=False)\n",
    "print(\"After making array immutable on attempting  second change \")\n",
    "a[1] = 7"
   ]
  },
  {
   "cell_type": "markdown",
   "id": "b35a2323-37cd-4bde-bf0b-69d5f823ad67",
   "metadata": {},
   "source": [
    "**22. Write a Python program to create an array of (3, 4) shape, multiply every element\n",
    "value by 3 and display the new array.**"
   ]
  },
  {
   "cell_type": "code",
   "execution_count": 177,
   "id": "f8b79141-f8fa-479e-a8d3-930b2ae81f16",
   "metadata": {},
   "outputs": [
    {
     "name": "stdout",
     "output_type": "stream",
     "text": [
      "original array:\n",
      "[[ 0  1  2  3]\n",
      " [ 4  5  6  7]\n",
      " [ 8  9 10 11]]\n",
      "new array:\n",
      "[[ 0  3  6  9]\n",
      " [12 15 18 21]\n",
      " [24 27 30 33]]\n"
     ]
    }
   ],
   "source": [
    "x = np.arange(0, 12).reshape(3, 4)\n",
    "print(\"original array:\")\n",
    "print(x)\n",
    "print(\"new array:\")\n",
    "x = x * 3 \n",
    "print(x)\n"
   ]
  },
  {
   "cell_type": "markdown",
   "id": "ffb5a54e-8a1b-4022-a5ad-1f1e0b52fd6d",
   "metadata": {},
   "source": [
    "**23. Write a Python program to convert a NumPy array into Python list structure.**"
   ]
  },
  {
   "cell_type": "code",
   "execution_count": 175,
   "id": "6d5c1e3c-fd87-4af0-a27a-c4d69a1ed62a",
   "metadata": {},
   "outputs": [
    {
     "name": "stdout",
     "output_type": "stream",
     "text": [
      "[[0 1]\n",
      " [2 3]\n",
      " [4 5]]\n",
      "Array to list: \n",
      "[[0, 1], [2, 3], [4, 5]]\n"
     ]
    }
   ],
   "source": [
    "arr = np.array([[0,1],[2,3],[4,5]]) \n",
    "print(arr)\n",
    "arr = arr.tolist()\n",
    "print(\"Array to list: \")\n",
    "print(arr)"
   ]
  },
  {
   "cell_type": "markdown",
   "id": "4db9f5d6-4aec-44d4-be5c-1974ed5fb875",
   "metadata": {},
   "source": [
    "**24. Write a Python program to convert a NumPy array into Python list structure.**"
   ]
  },
  {
   "cell_type": "code",
   "execution_count": 173,
   "id": "819b70bb-ac16-4cc5-86f7-6b8b906f3144",
   "metadata": {},
   "outputs": [
    {
     "name": "stdout",
     "output_type": "stream",
     "text": [
      "Original array elements (NumPy Array):\n",
      "[0.262 0.528 0.572 0.593 0.783 0.697 0.354 0.995 0.069 0.547]\n",
      "\n",
      "After conversion (Python List):\n",
      "[0.262 0.528 0.572 0.593 0.783 0.697 0.354 0.995 0.069 0.547]\n"
     ]
    }
   ],
   "source": [
    "import numpy as np\n",
    "arr = np.array([0.26153123, 0.52760141, 0.5718299, 0.5927067, 0.7831874,\n",
    "                0.69746349, 0.35399976, 0.99469633, 0.0694458, 0.54711478])\n",
    "print(\"Original array elements (NumPy Array):\")\n",
    "print(arr)\n",
    "arr_list = arr.tolist()\n",
    "rounded_arr = np.round(arr, 3)\n",
    "print(\"\\nAfter conversion (Python List):\")\n",
    "print(rounded_arr)"
   ]
  },
  {
   "cell_type": "markdown",
   "id": "96928d7b-8437-4bfb-9514-afa7187d23c4",
   "metadata": {},
   "source": [
    "**25. Write a Python program to suppresses the use of scientific notation for small\n",
    "numbers in numpy array.**"
   ]
  },
  {
   "cell_type": "code",
   "execution_count": 171,
   "id": "87f58649-7bd9-4bfd-8c83-dda43312a8d9",
   "metadata": {},
   "outputs": [
    {
     "name": "stdout",
     "output_type": "stream",
     "text": [
      "Original array elements:\n",
      "[   0.       1.6   1200.       0.235]\n",
      "\n",
      "Print array values with precision 3:\n",
      "[   0.       1.6   1200.       0.235]\n"
     ]
    }
   ],
   "source": [
    "\n",
    "arr = np.array([1.6e-10, 1.6, 1.2e3, 2.35e-1])\n",
    "print(\"Original array elements:\")\n",
    "print(arr)\n",
    "np.set_printoptions(suppress=True, precision=3)\n",
    "print(\"\\nPrint array values with precision 3:\")\n",
    "print(arr)\n"
   ]
  },
  {
   "cell_type": "markdown",
   "id": "f71063f1-9e14-4ec9-9de7-a1f1357a6c35",
   "metadata": {},
   "source": [
    "**26. Write a Python program to how to add an extra column to an numpy array.**"
   ]
  },
  {
   "cell_type": "code",
   "execution_count": 169,
   "id": "648285cc-8188-4770-a0a9-776385107840",
   "metadata": {},
   "outputs": [
    {
     "name": "stdout",
     "output_type": "stream",
     "text": [
      "initial_array :  [[10 20 30]\n",
      " [40 50 60]]\n",
      "resultant array [[ 10  20  30 100]\n",
      " [ 40  50  60 200]]\n"
     ]
    }
   ],
   "source": [
    "\n",
    "ini_array = np.array([[10, 20, 30], [40, 50, 60]])\n",
    "print(\"initial_array : \", str(ini_array));\n",
    "column_to_be_added = np.array([[100], [200]])\n",
    "arr = np.append(ini_array, column_to_be_added, axis=1)\n",
    "print (\"resultant array\", str(arr))"
   ]
  },
  {
   "cell_type": "markdown",
   "id": "400ea2a5-ef88-417f-ae92-c002e68d11be",
   "metadata": {},
   "source": [
    "**27. Write a Python program to remove specific elements in a numpy array.**"
   ]
  },
  {
   "cell_type": "code",
   "execution_count": 167,
   "id": "bad5422e-8671-4e93-8968-0faedb904cf4",
   "metadata": {},
   "outputs": [
    {
     "name": "stdout",
     "output_type": "stream",
     "text": [
      "Original array:\n",
      "[ 10  20  30  40  50  60  70  80  90 100]\n",
      "\n",
      "Array after deleting first, fourth, and fifth elements:\n",
      "[ 20  30  60  70  80  90 100]\n"
     ]
    }
   ],
   "source": [
    "\n",
    "a = np.array([10, 20, 30, 40, 50, 60, 70, 80, 90, 100])\n",
    "print(\"Original array:\")\n",
    "print(a)\n",
    "indices_to_remove = [0, 3, 4]\n",
    "a = np.delete(a, indices_to_remove)\n",
    "print(\"\\nArray after deleting first, fourth, and fifth elements:\")\n",
    "print(a)\n"
   ]
  },
  {
   "cell_type": "code",
   "execution_count": null,
   "id": "089aea81-c90c-4f76-a0af-4248261170cc",
   "metadata": {},
   "outputs": [],
   "source": []
  }
 ],
 "metadata": {
  "kernelspec": {
   "display_name": "Python [conda env:base] *",
   "language": "python",
   "name": "conda-base-py"
  },
  "language_info": {
   "codemirror_mode": {
    "name": "ipython",
    "version": 3
   },
   "file_extension": ".py",
   "mimetype": "text/x-python",
   "name": "python",
   "nbconvert_exporter": "python",
   "pygments_lexer": "ipython3",
   "version": "3.12.7"
  }
 },
 "nbformat": 4,
 "nbformat_minor": 5
}
